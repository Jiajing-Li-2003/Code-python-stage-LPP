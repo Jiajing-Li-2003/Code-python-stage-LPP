{
 "cells": [
  {
   "cell_type": "markdown",
   "id": "dcb06ac1-ed50-40f7-8195-007e2d7e8e4f",
   "metadata": {},
   "source": [
    "Utilisation de la bibliotèque \"pint\" pour automatisé la conversion des unités."
   ]
  },
  {
   "cell_type": "code",
   "execution_count": 4,
   "id": "dd80f335-7ac3-42ba-917d-41aa25b006e5",
   "metadata": {
    "execution": {
     "iopub.execute_input": "2025-07-28T15:46:31.905950Z",
     "iopub.status.busy": "2025-07-28T15:46:31.905423Z",
     "iopub.status.idle": "2025-07-28T15:46:33.341576Z",
     "shell.execute_reply": "2025-07-28T15:46:33.340664Z",
     "shell.execute_reply.started": "2025-07-28T15:46:31.905928Z"
    }
   },
   "outputs": [
    {
     "name": "stdout",
     "output_type": "stream",
     "text": [
      "Collecting pint\n",
      "  Using cached Pint-0.24.4-py3-none-any.whl.metadata (8.5 kB)\n",
      "Requirement already satisfied: platformdirs>=2.1.0 in /opt/conda/envs/hpc/lib/python3.10/site-packages (from pint) (4.3.6)\n",
      "Requirement already satisfied: typing-extensions>=4.0.0 in /opt/conda/envs/hpc/lib/python3.10/site-packages (from pint) (4.12.2)\n",
      "Collecting flexcache>=0.3 (from pint)\n",
      "  Using cached flexcache-0.3-py3-none-any.whl.metadata (7.0 kB)\n",
      "Collecting flexparser>=0.4 (from pint)\n",
      "  Using cached flexparser-0.4-py3-none-any.whl.metadata (18 kB)\n",
      "Using cached Pint-0.24.4-py3-none-any.whl (302 kB)\n",
      "Using cached flexcache-0.3-py3-none-any.whl (13 kB)\n",
      "Using cached flexparser-0.4-py3-none-any.whl (27 kB)\n",
      "Installing collected packages: flexparser, flexcache, pint\n",
      "Successfully installed flexcache-0.3 flexparser-0.4 pint-0.24.4\n"
     ]
    }
   ],
   "source": [
    "!pip install pint"
   ]
  },
  {
   "cell_type": "code",
   "execution_count": 5,
   "id": "c929eeac-38a2-4ae1-a250-063261928bef",
   "metadata": {
    "execution": {
     "iopub.execute_input": "2025-07-28T15:46:33.343400Z",
     "iopub.status.busy": "2025-07-28T15:46:33.343130Z",
     "iopub.status.idle": "2025-07-28T15:46:33.494660Z",
     "shell.execute_reply": "2025-07-28T15:46:33.494158Z",
     "shell.execute_reply.started": "2025-07-28T15:46:33.343384Z"
    }
   },
   "outputs": [],
   "source": [
    "from math import *\n",
    "import numpy as np\n",
    "import matplotlib.pyplot as plt\n",
    "import pint\n",
    "import scipy.constants as cst"
   ]
  },
  {
   "cell_type": "code",
   "execution_count": 6,
   "id": "51bd691e-b416-4958-9c97-2b1defd37618",
   "metadata": {
    "execution": {
     "iopub.execute_input": "2025-07-28T15:46:33.495981Z",
     "iopub.status.busy": "2025-07-28T15:46:33.495401Z",
     "iopub.status.idle": "2025-07-28T15:46:33.502271Z",
     "shell.execute_reply": "2025-07-28T15:46:33.501956Z",
     "shell.execute_reply.started": "2025-07-28T15:46:33.495962Z"
    }
   },
   "outputs": [
    {
     "data": {
      "text/plain": [
       "61.261056745000964"
      ]
     },
     "execution_count": 6,
     "metadata": {},
     "output_type": "execute_result"
    }
   ],
   "source": [
    "np.pi*13e-3*1500"
   ]
  },
  {
   "cell_type": "code",
   "execution_count": 7,
   "id": "6839ed9c-3c53-42a7-8d0f-3b29cc6868d2",
   "metadata": {
    "execution": {
     "iopub.execute_input": "2025-07-28T15:46:33.503457Z",
     "iopub.status.busy": "2025-07-28T15:46:33.503060Z",
     "iopub.status.idle": "2025-07-28T15:46:33.678175Z",
     "shell.execute_reply": "2025-07-28T15:46:33.677822Z",
     "shell.execute_reply.started": "2025-07-28T15:46:33.503443Z"
    },
    "scrolled": true
   },
   "outputs": [
    {
     "name": "stdout",
     "output_type": "stream",
     "text": [
      "8.8541878128e-12\n",
      "3 centimeter\n",
      "30000.0 micrometer\n"
     ]
    }
   ],
   "source": [
    "u=pint.UnitRegistry()\n",
    "Q=u.Quantity\n",
    "\n",
    "speed=Q(60,'m/s')\n",
    "speed.to('m/h')\n",
    "\n",
    "print(cst.epsilon_0)\n",
    "radius = 3 *u.cm\n",
    "print(radius)\n",
    "print(radius.to('um'))"
   ]
  },
  {
   "cell_type": "markdown",
   "id": "d4be6161-e515-44f2-9788-84189192db83",
   "metadata": {},
   "source": [
    "Differentes formules pour l'inductance avec des hypothèse différentes:\n",
    "exemple:https://www.carnets-tsf.fr/inductance.html\n",
    "\n",
    "Ou celle décrite dans les cours de physique si : les spires sont uniformément réparties, la longueur de la bobine est grande devant son diamètre (bobine longue) et si les effets de bord sont négligés."
   ]
  },
  {
   "cell_type": "code",
   "execution_count": 8,
   "id": "1dea0156-d6ab-4a18-8869-8463afdd12ca",
   "metadata": {
    "execution": {
     "iopub.execute_input": "2025-07-28T15:46:33.728586Z",
     "iopub.status.busy": "2025-07-28T15:46:33.728233Z",
     "iopub.status.idle": "2025-07-28T15:46:33.731226Z",
     "shell.execute_reply": "2025-07-28T15:46:33.730895Z",
     "shell.execute_reply.started": "2025-07-28T15:46:33.728570Z"
    }
   },
   "outputs": [],
   "source": [
    "def inductance (r,l,N):\n",
    "    #N le nombre de spire, r le rayon de la bobine, l longueur de la bobine\n",
    "    r = r.to('meter')\n",
    "    l = l.to('meter')\n",
    "    S=pi*(r**2) #section transversale de la bobine\n",
    "    mu0=Q(cst.mu_0,'H/m') #la perméabilité du vide\n",
    "    return (mu0*S*(N**2)/l)"
   ]
  },
  {
   "cell_type": "code",
   "execution_count": 48,
   "id": "20acb159-d58c-4524-bdca-d3819e90e03f",
   "metadata": {
    "execution": {
     "iopub.execute_input": "2025-07-30T12:40:33.643608Z",
     "iopub.status.busy": "2025-07-30T12:40:33.643275Z",
     "iopub.status.idle": "2025-07-30T12:40:33.652154Z",
     "shell.execute_reply": "2025-07-30T12:40:33.651613Z",
     "shell.execute_reply.started": "2025-07-30T12:40:33.643590Z"
    }
   },
   "outputs": [
    {
     "name": "stdout",
     "output_type": "stream",
     "text": [
      "l1= 0.0529911645984544 henry\n",
      "l2= 0.001227944560679581 henry\n",
      "l3= 0.006979918250680433 henry\n",
      "l4= 0.06851847398113371 henry\n",
      "  \n",
      "l5= 0.4936103411876015 henry\n",
      "l11= 0.0002783536867760023 henry\n",
      "l12= 0.0011607888482550275 henry\n",
      "l13= 0.0025759975926003863 henry\n",
      "l14= 0.00746586225326828 henry\n"
     ]
    }
   ],
   "source": [
    "print(\"l1=\",inductance(0.1*u.m,7.45e-3*u.m,100))\n",
    "print(\"l2=\",inductance(0.1*u.m,12.86e-3*u.m,20))\n",
    "print(\"l3=\",inductance(0.1*u.m,14.14e-3*u.m,50))\n",
    "print(\"l4=\",inductance(0.05*u.m,0.944*u.m,2560))\n",
    "print('  ')\n",
    "\n",
    "print(\"l5=\",inductance(0.17*u.m,10*u.mm,208))\n",
    "\n",
    "print(\"l11=\",inductance(5*u.mm,80*u.mm,475))\n",
    "print(\"l12=\",inductance(5*u.mm,80*u.mm,970))\n",
    "print(\"l13=\",inductance(5*u.mm,80*u.mm,1445))\n",
    "print(\"l14=\",inductance(5*u.mm,80*u.mm,2460))"
   ]
  },
  {
   "cell_type": "code",
   "execution_count": 33,
   "id": "57881286-b55c-497c-ba3a-db9a4997e473",
   "metadata": {
    "execution": {
     "iopub.execute_input": "2025-07-28T16:07:47.832417Z",
     "iopub.status.busy": "2025-07-28T16:07:47.831319Z",
     "iopub.status.idle": "2025-07-28T16:07:47.838489Z",
     "shell.execute_reply": "2025-07-28T16:07:47.837827Z",
     "shell.execute_reply.started": "2025-07-28T16:07:47.832392Z"
    }
   },
   "outputs": [
    {
     "data": {
      "text/html": [
       "0.06798421891209747 henry"
      ],
      "text/latex": [
       "$0.06798421891209747\\ \\mathrm{henry}$"
      ],
      "text/plain": [
       "<Quantity(0.06798421891209747, 'henry')>"
      ]
     },
     "execution_count": 33,
     "metadata": {},
     "output_type": "execute_result"
    }
   ],
   "source": [
    "inductance (0.05*u.m,94.4*u.cm,2560)"
   ]
  },
  {
   "cell_type": "markdown",
   "id": "b9f10e39-048b-4dca-9a97-18b878c72814",
   "metadata": {},
   "source": [
    "Une autre provenant de https://electronbunker.ca/eb/CalcMethods3b.html : inductance de bobine monocouche"
   ]
  },
  {
   "cell_type": "code",
   "execution_count": 133,
   "id": "9a252845-d01b-4096-9684-1a3bababe2b4",
   "metadata": {
    "execution": {
     "iopub.execute_input": "2025-08-01T12:36:30.548958Z",
     "iopub.status.busy": "2025-08-01T12:36:30.548505Z",
     "iopub.status.idle": "2025-08-01T12:36:30.552984Z",
     "shell.execute_reply": "2025-08-01T12:36:30.552564Z",
     "shell.execute_reply.started": "2025-08-01T12:36:30.548938Z"
    }
   },
   "outputs": [],
   "source": [
    "def inductance2 (r,l,N):\n",
    "    r = r.to('m')\n",
    "    l = l.to('m') #l représente la longueur de la bobine en m\n",
    "    D= 2*r #D représente le diamètre du corps de la bobine en m\n",
    "    mu0=4*pi*1e-7\n",
    "    L=((mu0/2)*D*(N**2)*(log(1+((pi*D)/(2*l))) +(2.3+ (3.437*l/(D)) + 1.764*((l/(D))**2) - (1/((2*(0.847 + ((D)/l)))**(3/2))))**-1)) #L représente l'inductance en H.\n",
    "    \n",
    "    return (L*u.H/u.m).to('mH')"
   ]
  },
  {
   "cell_type": "markdown",
   "id": "a6417e9e-d816-42e5-bc13-886fb70aa28e",
   "metadata": {},
   "source": [
    "Test avec les paramètres des différentes bobines montée à la main"
   ]
  },
  {
   "cell_type": "code",
   "execution_count": 136,
   "id": "7684acde-2ce0-4277-8343-a7d9d0ab2742",
   "metadata": {
    "execution": {
     "iopub.execute_input": "2025-08-01T12:37:35.774795Z",
     "iopub.status.busy": "2025-08-01T12:37:35.774342Z",
     "iopub.status.idle": "2025-08-01T12:37:35.791992Z",
     "shell.execute_reply": "2025-08-01T12:37:35.791561Z",
     "shell.execute_reply.started": "2025-08-01T12:37:35.774776Z"
    }
   },
   "outputs": [
    {
     "name": "stdout",
     "output_type": "stream",
     "text": [
      "l1= 5.2489434493728435 millihenry\n",
      "l2= 0.2012912453622724 millihenry\n",
      "l3= 1.1114118446732704 millihenry\n",
      "l4= 1.0440292919093914 millihenry\n",
      "l5= 68.63779153362837 millihenry\n",
      "  \n",
      "l6= 0.08179952392016294 millihenry\n",
      "l7= 0.36074941116685894 millihenry\n",
      "l8= 2.626356178737505 millihenry\n",
      "  \n",
      "l9= 40.78682698425685 millihenry\n",
      "l10= 172.7329182083697 millihenry\n",
      " \n",
      "l11= 0.26410863365973214 millihenry\n",
      "l12= 1.1013842145615158 millihenry\n",
      "l13= 2.4441681099052066 millihenry\n",
      "l14= 7.0837886203002105 millihenry\n"
     ]
    }
   ],
   "source": [
    "print(\"l1=\",inductance2(0.1*u.m,7.45e-3*u.m,100))\n",
    "print(\"l2=\",inductance2(0.1*u.m,12.86e-3*u.m,21))\n",
    "print(\"l3=\",inductance2(0.1*u.m,14.14e-3*u.m,50))\n",
    "print(\"l4=\",inductance2(0.15*u.m,0.45e-2*u.m,33))\n",
    "print(\"l5=\",inductance2(0.05*u.m,0.944*u.m,2620))\n",
    "\n",
    "\n",
    "print('  ')\n",
    "\n",
    "print(\"l6=\",inductance2(7*u.cm,9*u.mm,16))\n",
    "print(\"l7=\",inductance2(7*u.cm,9.8*u.mm,34))\n",
    "print(\"l8=\",inductance2(7*u.cm,10*u.mm,92))\n",
    "print('  ')\n",
    "\n",
    "print(\"l9=\",inductance2(17*u.cm,10*u.mm,208))\n",
    "print(\"l10=\",inductance2(190*u.mm,22*u.mm,440))\n",
    "print(' ')\n",
    "\n",
    "print(\"l11=\",inductance2(5*u.mm,80*u.mm,475))\n",
    "print(\"l12=\",inductance2(5*u.mm,80*u.mm,970))\n",
    "print(\"l13=\",inductance2(5*u.mm,80*u.mm,1445))\n",
    "print(\"l14=\",inductance2(5*u.mm,80*u.mm,2460))"
   ]
  },
  {
   "cell_type": "code",
   "execution_count": 16,
   "id": "53286c86-69db-4bcb-990e-cf7d0d76c45f",
   "metadata": {
    "execution": {
     "iopub.execute_input": "2025-07-28T15:47:06.461021Z",
     "iopub.status.busy": "2025-07-28T15:47:06.460494Z",
     "iopub.status.idle": "2025-07-28T15:47:06.466479Z",
     "shell.execute_reply": "2025-07-28T15:47:06.466143Z",
     "shell.execute_reply.started": "2025-07-28T15:47:06.460999Z"
    }
   },
   "outputs": [
    {
     "data": {
      "text/html": [
       "180.16440889499006 millihenry"
      ],
      "text/latex": [
       "$180.16440889499006\\ \\mathrm{millihenry}$"
      ],
      "text/plain": [
       "<Quantity(180.16440889499006, 'millihenry')>"
      ]
     },
     "execution_count": 16,
     "metadata": {},
     "output_type": "execute_result"
    }
   ],
   "source": [
    "inductance2(200*u.mm,22*u.mm,435)"
   ]
  },
  {
   "cell_type": "code",
   "execution_count": 30,
   "id": "df777899-f6d6-47e7-816c-2a8fc4df1a53",
   "metadata": {
    "execution": {
     "iopub.execute_input": "2025-07-28T16:05:27.791684Z",
     "iopub.status.busy": "2025-07-28T16:05:27.791243Z",
     "iopub.status.idle": "2025-07-28T16:05:27.797517Z",
     "shell.execute_reply": "2025-07-28T16:05:27.797123Z",
     "shell.execute_reply.started": "2025-07-28T16:05:27.791665Z"
    }
   },
   "outputs": [
    {
     "data": {
      "text/html": [
       "68.48767731188603 millihenry"
      ],
      "text/latex": [
       "$68.48767731188603\\ \\mathrm{millihenry}$"
      ],
      "text/plain": [
       "<Quantity(68.48767731188603, 'millihenry')>"
      ]
     },
     "execution_count": 30,
     "metadata": {},
     "output_type": "execute_result"
    }
   ],
   "source": [
    "inductance2(5*u.cm,94.4*u.m,25600)"
   ]
  },
  {
   "cell_type": "markdown",
   "id": "f71157ee-d8fe-428d-bbcd-812693b180ab",
   "metadata": {},
   "source": [
    "On a la resistance décrite dans les cours de physique, qui est aussi dans la thèse de Paul Leroy"
   ]
  },
  {
   "cell_type": "code",
   "execution_count": 36,
   "id": "4cbb19ac-9545-4957-a536-1fccb96b0b12",
   "metadata": {
    "execution": {
     "iopub.execute_input": "2025-07-30T09:10:20.666558Z",
     "iopub.status.busy": "2025-07-30T09:10:20.666213Z",
     "iopub.status.idle": "2025-07-30T09:10:20.670631Z",
     "shell.execute_reply": "2025-07-30T09:10:20.670128Z",
     "shell.execute_reply.started": "2025-07-30T09:10:20.666539Z"
    }
   },
   "outputs": [],
   "source": [
    "def resistance(a,r,N):\n",
    "    #N le nombre de spire, r le rayon de la bobine, a le rayon du fil,n le nombre de couche\n",
    "    r=r.to('m')\n",
    "    a=a.to('m')\n",
    "    rho= 1.68*(10**-8)*u.ohm*u.m #la résistivité du matériau pour le cuivre\n",
    "    S=pi*(a**2) #section transversale du fil\n",
    "    l_fil=2*pi*r*N #longueur total du fil enroulé\n",
    "    R=rho*l_fil/S\n",
    "    return R"
   ]
  },
  {
   "cell_type": "code",
   "execution_count": 152,
   "id": "5039ff4d-5147-4a39-a5c5-9b1005b776e9",
   "metadata": {
    "execution": {
     "iopub.execute_input": "2025-08-01T12:51:50.159860Z",
     "iopub.status.busy": "2025-08-01T12:51:50.159412Z",
     "iopub.status.idle": "2025-08-01T12:51:50.167163Z",
     "shell.execute_reply": "2025-08-01T12:51:50.166791Z",
     "shell.execute_reply.started": "2025-08-01T12:51:50.159842Z"
    }
   },
   "outputs": [
    {
     "name": "stdout",
     "output_type": "stream",
     "text": [
      "209.99999999999997 ohm\n",
      "1.0752 ohm\n",
      "10.752 ohm\n",
      "457.96799999999996 ohm\n",
      "2.6611199999999995 ohm\n",
      "  \n",
      "0.6021120000000001 ohm\n",
      "5.117952000000001 ohm\n",
      "13.848576000000001 ohm\n"
     ]
    }
   ],
   "source": [
    "\n",
    "print(resistance(0.04e-3*u.m,0.1*u.m,100))\n",
    "print(resistance(0.25e-3*u.m,0.1*u.m,20))\n",
    "print(resistance(0.125e-3*u.m,0.1*u.m,50))\n",
    "print(resistance(0.10e-3*u.m,0.05*u.m,2726))\n",
    "print(resistance(0.25e-3*u.m,0.15*u.m,33))\n",
    "print('  ')\n",
    "print(resistance(0.25e-3*u.m,7*u.cm,16))\n",
    "print(resistance(0.125e-3*u.m,7*u.cm,34))\n",
    "print(resistance(0.125e-3*u.m,7*u.cm,92))"
   ]
  },
  {
   "cell_type": "code",
   "execution_count": 161,
   "id": "055e1f43-4a1c-4bad-bf5e-192fbf41c167",
   "metadata": {
    "execution": {
     "iopub.execute_input": "2025-08-01T13:04:35.551098Z",
     "iopub.status.busy": "2025-08-01T13:04:35.550759Z",
     "iopub.status.idle": "2025-08-01T13:04:35.555570Z",
     "shell.execute_reply": "2025-08-01T13:04:35.555157Z",
     "shell.execute_reply.started": "2025-08-01T13:04:35.551079Z"
    }
   },
   "outputs": [
    {
     "name": "stdout",
     "output_type": "stream",
     "text": [
      "19.009536000000004 ohm\n",
      "179.77344 ohm\n"
     ]
    }
   ],
   "source": [
    "print(resistance(0.25*u.mm,170*u.mm,208))\n",
    "print(resistance(0.125*u.mm,190*u.mm,440))"
   ]
  },
  {
   "cell_type": "code",
   "execution_count": 164,
   "id": "c5d93d7d-4da9-4348-b029-cb9050c023c4",
   "metadata": {
    "execution": {
     "iopub.execute_input": "2025-08-01T13:07:43.007389Z",
     "iopub.status.busy": "2025-08-01T13:07:43.007048Z",
     "iopub.status.idle": "2025-08-01T13:07:43.015371Z",
     "shell.execute_reply": "2025-08-01T13:07:43.015020Z",
     "shell.execute_reply.started": "2025-08-01T13:07:43.007370Z"
    }
   },
   "outputs": [
    {
     "name": "stdout",
     "output_type": "stream",
     "text": [
      "20.4288 ohm\n",
      "41.71776 ohm\n",
      "62.146559999999994 ohm\n",
      "105.79968000000001 ohm\n",
      " \n",
      "8.601600000000001 ohm\n",
      "17.203200000000002 ohm\n",
      "25.804799999999997 ohm\n",
      "34.406400000000005 ohm\n"
     ]
    }
   ],
   "source": [
    "print(resistance(0.0625e-3*u.m,5e-3*u.m,475))\n",
    "print(resistance(0.0625*u.mm,5*u.mm,970))\n",
    "print(resistance(0.0625*u.mm,5*u.mm,1445))\n",
    "print(resistance(0.0625*u.mm,5*u.mm,2460))\n",
    "print(\" \")\n",
    "print(resistance(0.0625e-3*u.m,5e-3*u.m,200))\n",
    "print(resistance(0.0625*u.mm,5*u.mm,200*2))\n",
    "print(resistance(0.0625*u.mm,5*u.mm,200*3))\n",
    "print(resistance(0.0625*u.mm,5*u.mm,200*4))"
   ]
  },
  {
   "cell_type": "code",
   "execution_count": 144,
   "id": "86bcb240-62db-4030-b423-7f2540e7d870",
   "metadata": {
    "execution": {
     "iopub.execute_input": "2025-08-01T12:41:17.603201Z",
     "iopub.status.busy": "2025-08-01T12:41:17.602771Z",
     "iopub.status.idle": "2025-08-01T12:41:17.606338Z",
     "shell.execute_reply": "2025-08-01T12:41:17.605974Z",
     "shell.execute_reply.started": "2025-08-01T12:41:17.603182Z"
    }
   },
   "outputs": [],
   "source": [
    "def resistance2(N,D,t,l,d):\n",
    "    return 4*1.68*(10**-8)*N*(D+(N*(d+t)**2)/l)/d**2"
   ]
  },
  {
   "cell_type": "code",
   "execution_count": 145,
   "id": "7a2b8d00-749b-452b-a78d-166fd6bb9b15",
   "metadata": {
    "execution": {
     "iopub.execute_input": "2025-08-01T12:41:17.840431Z",
     "iopub.status.busy": "2025-08-01T12:41:17.840098Z",
     "iopub.status.idle": "2025-08-01T12:41:17.844046Z",
     "shell.execute_reply": "2025-08-01T12:41:17.843705Z",
     "shell.execute_reply.started": "2025-08-01T12:41:17.840415Z"
    }
   },
   "outputs": [
    {
     "name": "stdout",
     "output_type": "stream",
     "text": [
      "210.11416107382547\n",
      "1.3504012441679627\n",
      "10.769108910891088\n",
      "458.628414586272\n",
      "2.6913167090526313\n",
      "\n",
      "0.6054838272\n",
      "5.129138380800001\n",
      "13.9304804352\n"
     ]
    }
   ],
   "source": [
    "print(resistance2(100,0.2,0.01e-3,7.45e-3,0.08e-3))\n",
    "print(resistance2(25,0.2,0.2e-3,12.86e-3,0.5e-3))\n",
    "print(resistance2(50,0.2,0.05e-3,14.14e-3,0.25e-3))\n",
    "print(resistance2(2726,0.1,0.03e-3,1,0.2e-3))\n",
    "print(resistance2(33,0.3,0.2e-3,4.75e-3,0.5e-3))\n",
    "print('')\n",
    "print(resistance2(16,0.14,0.2e-3,0.01,0.5e-3))\n",
    "print(resistance2(34,0.14,0.05e-3,0.01,0.25e-3))\n",
    "print(resistance2(92,0.14,0.05e-3,0.01,0.25e-3))"
   ]
  },
  {
   "cell_type": "code",
   "execution_count": 156,
   "id": "79cf032c-f025-4d84-bcac-fe73874c0f67",
   "metadata": {
    "execution": {
     "iopub.execute_input": "2025-08-01T12:57:44.337525Z",
     "iopub.status.busy": "2025-08-01T12:57:44.337080Z",
     "iopub.status.idle": "2025-08-01T12:57:44.341020Z",
     "shell.execute_reply": "2025-08-01T12:57:44.340662Z",
     "shell.execute_reply.started": "2025-08-01T12:57:44.337506Z"
    }
   },
   "outputs": [
    {
     "name": "stdout",
     "output_type": "stream",
     "text": [
      "19.4281930752\n",
      "171.1632384\n"
     ]
    }
   ],
   "source": [
    "\n",
    "print(resistance2(208,0.340,0.1e-3,0.01,0.5e-3))\n",
    "print(resistance2(440,0.360,0.05e-3,0.022,0.25e-3))"
   ]
  },
  {
   "cell_type": "code",
   "execution_count": 162,
   "id": "c096e58f-b08b-4fdc-86dc-ee90a7e89c4f",
   "metadata": {
    "execution": {
     "iopub.execute_input": "2025-08-01T13:06:45.940066Z",
     "iopub.status.busy": "2025-08-01T13:06:45.939713Z",
     "iopub.status.idle": "2025-08-01T13:06:45.943590Z",
     "shell.execute_reply": "2025-08-01T13:06:45.943236Z",
     "shell.execute_reply.started": "2025-08-01T13:06:45.940045Z"
    }
   },
   "outputs": [
    {
     "name": "stdout",
     "output_type": "stream",
     "text": [
      "8.67428352\n",
      "17.493934080000002\n",
      "26.45895168\n",
      "35.56933632\n"
     ]
    }
   ],
   "source": [
    "print(resistance2(200,10e-3,0.005e-3,40e-3,0.125e-3))\n",
    "print(resistance2(200*2,10e-3,0.005e-3,40e-3,0.125e-3))\n",
    "print(resistance2(200*3,10e-3,0.005e-3,40e-3,0.125e-3))\n",
    "print(resistance2(200*4,10e-3,0.005e-3,40e-3,0.125e-3))"
   ]
  },
  {
   "cell_type": "code",
   "execution_count": 75,
   "id": "4f088896-b07f-4b95-a959-7592002c9a4c",
   "metadata": {
    "execution": {
     "iopub.execute_input": "2025-06-13T12:48:20.510715Z",
     "iopub.status.busy": "2025-06-13T12:48:20.510442Z",
     "iopub.status.idle": "2025-06-13T12:48:20.515132Z",
     "shell.execute_reply": "2025-06-13T12:48:20.514558Z",
     "shell.execute_reply.started": "2025-06-13T12:48:20.510699Z"
    }
   },
   "outputs": [],
   "source": [
    "def capacite(r,t,a,N):\n",
    "    #N le nombre de spire, r le rayon de la bobine, t l'épaisseur du vernis isolant de par et d'autre du fil et a le rayon du fil\n",
    "    l_spire= 2*pi*r\n",
    "    epsi=cst.epsilon_0# La permittivité du vide (permitivité de l'email =???)\n",
    "    #C_turn= pi*epsi*l_spire/np.arccosh(e/(2*a))\n",
    "    return N*epsi*l_spire*(2*a+t)/(t)"
   ]
  },
  {
   "cell_type": "code",
   "execution_count": 76,
   "id": "13a998c0-37cc-4fc4-a33f-59da776397d4",
   "metadata": {
    "execution": {
     "iopub.execute_input": "2025-06-13T12:48:20.516173Z",
     "iopub.status.busy": "2025-06-13T12:48:20.515903Z",
     "iopub.status.idle": "2025-06-13T12:48:20.526980Z",
     "shell.execute_reply": "2025-06-13T12:48:20.526403Z",
     "shell.execute_reply.started": "2025-06-13T12:48:20.516158Z"
    }
   },
   "outputs": [
    {
     "data": {
      "text/plain": [
       "1.6689750831718056e-09"
      ]
     },
     "execution_count": 76,
     "metadata": {},
     "output_type": "execute_result"
    }
   ],
   "source": [
    "capacite(0.1,0.05e-3,0.125e-3,50)"
   ]
  },
  {
   "cell_type": "code",
   "execution_count": 113,
   "id": "cc6f3c81-96fd-4d1f-a6ff-728ea51bb36f",
   "metadata": {
    "execution": {
     "iopub.execute_input": "2025-06-13T13:12:10.282340Z",
     "iopub.status.busy": "2025-06-13T13:12:10.281604Z",
     "iopub.status.idle": "2025-06-13T13:12:10.286158Z",
     "shell.execute_reply": "2025-06-13T13:12:10.285761Z",
     "shell.execute_reply.started": "2025-06-13T13:12:10.282317Z"
    }
   },
   "outputs": [
    {
     "data": {
      "text/plain": [
       "6.885078543111423e-09"
      ]
     },
     "execution_count": 113,
     "metadata": {},
     "output_type": "execute_result"
    }
   ],
   "source": [
    "capacite(0.17,0.2e-3,0.25e-3,208)"
   ]
  },
  {
   "cell_type": "markdown",
   "id": "90b99108-fa9f-4e03-b6fd-5e219ce8e3ef",
   "metadata": {
    "execution": {
     "iopub.execute_input": "2025-05-28T07:54:12.755867Z",
     "iopub.status.busy": "2025-05-28T07:54:12.755446Z",
     "iopub.status.idle": "2025-05-28T07:54:12.760113Z",
     "shell.execute_reply": "2025-05-28T07:54:12.759352Z",
     "shell.execute_reply.started": "2025-05-28T07:54:12.755847Z"
    }
   },
   "source": [
    "Les deux formules suivantes proviennent de cette thèse https://hal.science/hal-02883572/document"
   ]
  },
  {
   "cell_type": "code",
   "execution_count": 114,
   "id": "b362f6c6-eb26-41f0-ac7e-294fb901cc97",
   "metadata": {
    "execution": {
     "iopub.execute_input": "2025-06-13T13:12:12.885889Z",
     "iopub.status.busy": "2025-06-13T13:12:12.885167Z",
     "iopub.status.idle": "2025-06-13T13:12:12.888948Z",
     "shell.execute_reply": "2025-06-13T13:12:12.888534Z",
     "shell.execute_reply.started": "2025-06-13T13:12:12.885865Z"
    }
   },
   "outputs": [],
   "source": [
    "def capacite1(D,l):\n",
    "    return D*(11.26*(l/D) +8 +27* sqrt(D/l))"
   ]
  },
  {
   "cell_type": "code",
   "execution_count": 160,
   "id": "807ddcf4-2611-4958-af48-f58214777594",
   "metadata": {
    "execution": {
     "iopub.execute_input": "2025-06-16T13:51:15.855568Z",
     "iopub.status.busy": "2025-06-16T13:51:15.855178Z",
     "iopub.status.idle": "2025-06-16T13:51:15.859012Z",
     "shell.execute_reply": "2025-06-16T13:51:15.858625Z",
     "shell.execute_reply.started": "2025-06-16T13:51:15.855547Z"
    },
    "scrolled": true
   },
   "outputs": [
    {
     "name": "stdout",
     "output_type": "stream",
     "text": [
      "29.662786048145353\n",
      "23.040324781577677\n",
      "22.06800659000424\n",
      "12.265042898622145\n",
      "68.58689305514581\n"
     ]
    }
   ],
   "source": [
    "\n",
    "print(capacite1(0.2,7.45e-3))\n",
    "print(capacite1(0.2,12.86e-3))\n",
    "print(capacite1(0.2,14.14e-3))\n",
    "print(capacite1(0.1,0.94))\n",
    "print(capacite1(0.3,0.45e-2))"
   ]
  },
  {
   "cell_type": "code",
   "execution_count": 116,
   "id": "26bb948c-566f-4ad4-9991-d98f152e0afe",
   "metadata": {
    "execution": {
     "iopub.execute_input": "2025-06-13T13:12:14.143079Z",
     "iopub.status.busy": "2025-06-13T13:12:14.142288Z",
     "iopub.status.idle": "2025-06-13T13:12:14.146586Z",
     "shell.execute_reply": "2025-06-13T13:12:14.146192Z",
     "shell.execute_reply.started": "2025-06-13T13:12:14.143056Z"
    }
   },
   "outputs": [],
   "source": [
    "def capacite2(D,l):\n",
    "    epsi=8.85*(10**-12)\n",
    "    \n",
    "    return (4*epsi*l/pi)*(0.71*(D/l) +1 +2.4* (D/l)**1.5)"
   ]
  },
  {
   "cell_type": "code",
   "execution_count": 167,
   "id": "7156e3d7-6f2d-4016-a34d-954ff1633eef",
   "metadata": {
    "execution": {
     "iopub.execute_input": "2025-06-16T13:57:39.926195Z",
     "iopub.status.busy": "2025-06-16T13:57:39.925706Z",
     "iopub.status.idle": "2025-06-16T13:57:39.930924Z",
     "shell.execute_reply": "2025-06-16T13:57:39.930465Z",
     "shell.execute_reply.started": "2025-06-16T13:57:39.926173Z"
    }
   },
   "outputs": [
    {
     "name": "stdout",
     "output_type": "stream",
     "text": [
      "2.9708116008669904e-11\n",
      "2.307490456107678e-11\n",
      "2.2101003149429736e-11\n",
      "1.2274185073061345e-11\n",
      "6.869386720148521e-11\n"
     ]
    }
   ],
   "source": [
    "\n",
    "print(capacite2(0.2,7.45e-3))\n",
    "print(capacite2(0.2,12.86e-3))\n",
    "print(capacite2(0.2,14.14e-3))\n",
    "print(capacite2(0.1,0.94))\n",
    "print(capacite2(0.3,0.45e-2))"
   ]
  },
  {
   "cell_type": "code",
   "execution_count": 118,
   "id": "a36af991-8b5e-430f-87c9-94c2ccb7cf26",
   "metadata": {
    "execution": {
     "iopub.execute_input": "2025-06-13T13:12:15.077863Z",
     "iopub.status.busy": "2025-06-13T13:12:15.077401Z",
     "iopub.status.idle": "2025-06-13T13:12:15.081509Z",
     "shell.execute_reply": "2025-06-13T13:12:15.081128Z",
     "shell.execute_reply.started": "2025-06-13T13:12:15.077843Z"
    }
   },
   "outputs": [
    {
     "name": "stdout",
     "output_type": "stream",
     "text": [
      "5.644741007801401e-11\n"
     ]
    }
   ],
   "source": [
    "print(capacite2(0.34,1e-2))"
   ]
  },
  {
   "cell_type": "markdown",
   "id": "3a800e54-eb8a-4944-b1aa-f2bf670352c2",
   "metadata": {},
   "source": [
    "https://theses.hal.science/tel-00763816/file/HDR_Coillot_2012.pdf"
   ]
  },
  {
   "cell_type": "code",
   "execution_count": 62,
   "id": "1935be43-a0ec-488f-86aa-78474958f6f8",
   "metadata": {
    "execution": {
     "iopub.execute_input": "2025-07-30T15:30:49.472528Z",
     "iopub.status.busy": "2025-07-30T15:30:49.472229Z",
     "iopub.status.idle": "2025-07-30T15:30:49.476676Z",
     "shell.execute_reply": "2025-07-30T15:30:49.476177Z",
     "shell.execute_reply.started": "2025-07-30T15:30:49.472510Z"
    }
   },
   "outputs": [],
   "source": [
    "def capacite3( l, t, N, d, a):\n",
    "    \"\"\"\n",
    "    Parameters:\n",
    "    l : longueur dufil ou bobine?\n",
    "    t : épaisseur d’isolant\n",
    "    N : nombre de spire\n",
    "    d : Diamètre du cylindre\n",
    "    a: diamètre du fil\n",
    "\"\"\"\n",
    "    epsi=cst.epsilon_0# La permittivité du vide (permitivité de l'air =1)\n",
    "    numerator = pi * epsi* l * (d +2*N* (a + t))\n",
    "    denominator = t * (N - 1)\n",
    "    C = numerator / denominator \n",
    "    return C"
   ]
  },
  {
   "cell_type": "code",
   "execution_count": null,
   "id": "bc6defbb-1905-46ce-b057-a4d1e8f45c31",
   "metadata": {},
   "outputs": [],
   "source": []
  },
  {
   "cell_type": "code",
   "execution_count": 79,
   "id": "92e3deaa-119c-4089-acf7-edae73bc788e",
   "metadata": {
    "execution": {
     "iopub.execute_input": "2025-07-31T08:21:37.646546Z",
     "iopub.status.busy": "2025-07-31T08:21:37.646008Z",
     "iopub.status.idle": "2025-07-31T08:21:37.652073Z",
     "shell.execute_reply": "2025-07-31T08:21:37.651412Z",
     "shell.execute_reply.started": "2025-07-31T08:21:37.646525Z"
    }
   },
   "outputs": [
    {
     "name": "stdout",
     "output_type": "stream",
     "text": [
      "4.027893339226282e-11\n",
      "7.30454761401527e-11\n",
      "1.3126520658054877e-10\n",
      "1.328399855262059e-11\n",
      " \n",
      "2.6570083324095146e-11\n",
      "2.649995265393359e-11\n",
      " \n",
      "6.144553163350893e-11\n",
      "3.605473284514085e-11\n",
      "6.168800693652343e-11\n"
     ]
    }
   ],
   "source": [
    "#print(capacite3(7.45e-3,0.))\n",
    "print(capacite3(12.86e-3,0.1e-3, 21, 0.2, 0.5e-3)) #l longueur de la bobine\n",
    "print(capacite3(14.14e-3,0.025e-3, 50, 0.2, 0.25e-3))\n",
    "print(capacite3(0.944,0.1462e-3, 2620, 0.1, 0.20e-3))\n",
    "print(capacite3(4.5e-3,0.1e-3, 33, 0.3, 0.5e-3))\n",
    "print(' ')\n",
    "print(capacite3(9e-3,0.1e-3, 16, 0.14, 0.5e-3))\n",
    "print(capacite3(9.8e-3,0.05e-3, 34, 0.14, 0.25e-3))\n",
    "print(' ')\n",
    "print(capacite3(10e-3,0.1e-3, 208/12, 0.34, 0.5e-3))\n",
    "print(capacite3(22e-3,0.025e-3, 435, 0.4, 0.25e-3))\n",
    "print(capacite3(80e-3,0.01e-3, 475*3, 0.01, 0.125e-3))"
   ]
  },
  {
   "cell_type": "code",
   "execution_count": 155,
   "id": "a0f0e60d-1e4f-4695-9d40-ee60d29d7a90",
   "metadata": {
    "execution": {
     "iopub.execute_input": "2025-06-13T13:34:02.290659Z",
     "iopub.status.busy": "2025-06-13T13:34:02.290198Z",
     "iopub.status.idle": "2025-06-13T13:34:02.295571Z",
     "shell.execute_reply": "2025-06-13T13:34:02.294823Z",
     "shell.execute_reply.started": "2025-06-13T13:34:02.290635Z"
    }
   },
   "outputs": [
    {
     "name": "stdout",
     "output_type": "stream",
     "text": [
      "4.240970501199854e-12\n"
     ]
    }
   ],
   "source": [
    "print(capacite3(10e-3,0.2e-3, 208, 0.34, 0.5e-3))"
   ]
  },
  {
   "cell_type": "code",
   "execution_count": 122,
   "id": "5d2ddb22-7c90-4345-9352-c1a56ffb4b85",
   "metadata": {
    "execution": {
     "iopub.execute_input": "2025-06-13T13:12:21.463443Z",
     "iopub.status.busy": "2025-06-13T13:12:21.462526Z",
     "iopub.status.idle": "2025-06-13T13:12:21.467041Z",
     "shell.execute_reply": "2025-06-13T13:12:21.466441Z",
     "shell.execute_reply.started": "2025-06-13T13:12:21.463421Z"
    }
   },
   "outputs": [
    {
     "name": "stdout",
     "output_type": "stream",
     "text": [
      "9.626274127334479e-08\n"
     ]
    }
   ],
   "source": [
    "#print(capatice3(7.45e-3,0.))\n",
    "print(capacite3(12.86e-3,0.103e-3, 21, 0.2, 13.194)) #l longueur du fil\n"
   ]
  },
  {
   "cell_type": "markdown",
   "id": "7f883f92-5f16-49c5-a6d2-19be2d153fe2",
   "metadata": {
    "execution": {
     "iopub.execute_input": "2025-05-28T07:54:43.498477Z",
     "iopub.status.busy": "2025-05-28T07:54:43.498180Z",
     "iopub.status.idle": "2025-05-28T07:54:43.501565Z",
     "shell.execute_reply": "2025-05-28T07:54:43.501091Z",
     "shell.execute_reply.started": "2025-05-28T07:54:43.498459Z"
    }
   },
   "source": [
    "https://coil32.net/theory/self-capacitance.html#:~:text=C%20s%20%3D%200.46%20,4"
   ]
  },
  {
   "cell_type": "code",
   "execution_count": 74,
   "id": "69d4f964-28c3-4b35-ad70-9f3551f084ad",
   "metadata": {
    "execution": {
     "iopub.execute_input": "2025-07-30T15:40:01.946892Z",
     "iopub.status.busy": "2025-07-30T15:40:01.946468Z",
     "iopub.status.idle": "2025-07-30T15:40:01.951304Z",
     "shell.execute_reply": "2025-07-30T15:40:01.950638Z",
     "shell.execute_reply.started": "2025-07-30T15:40:01.946868Z"
    }
   },
   "outputs": [],
   "source": [
    "def capacite4(D,p,a):\n",
    "    'en pF, p le pas'\n",
    "    return 2*pi*D/np.arccosh(p/a)"
   ]
  },
  {
   "cell_type": "code",
   "execution_count": 76,
   "id": "51caac45-118c-47ec-94b8-99a03021f20f",
   "metadata": {
    "execution": {
     "iopub.execute_input": "2025-07-30T15:40:29.313512Z",
     "iopub.status.busy": "2025-07-30T15:40:29.313158Z",
     "iopub.status.idle": "2025-07-30T15:40:29.318126Z",
     "shell.execute_reply": "2025-07-30T15:40:29.317439Z",
     "shell.execute_reply.started": "2025-07-30T15:40:29.313492Z"
    }
   },
   "outputs": [
    {
     "name": "stdout",
     "output_type": "stream",
     "text": [
      "246.3952386469997\n"
     ]
    }
   ],
   "source": [
    "print(capacite4(34,0.7e-3,0.5e-3))"
   ]
  },
  {
   "cell_type": "code",
   "execution_count": 171,
   "id": "6aedc82f-830c-4d2b-88be-8792a8346b37",
   "metadata": {
    "execution": {
     "iopub.execute_input": "2025-06-17T12:38:26.368148Z",
     "iopub.status.busy": "2025-06-17T12:38:26.367754Z",
     "iopub.status.idle": "2025-06-17T12:38:26.372252Z",
     "shell.execute_reply": "2025-06-17T12:38:26.371600Z",
     "shell.execute_reply.started": "2025-06-17T12:38:26.368127Z"
    }
   },
   "outputs": [
    {
     "name": "stdout",
     "output_type": "stream",
     "text": [
      "2.4639523864699973\n"
     ]
    }
   ],
   "source": [
    "print(capacite4(0.34,0.7e-3,0.5e-3))"
   ]
  },
  {
   "cell_type": "code",
   "execution_count": 126,
   "id": "1f8526c4-d8cb-49ec-9d4b-a00926376c65",
   "metadata": {
    "execution": {
     "iopub.execute_input": "2025-06-13T13:12:23.107855Z",
     "iopub.status.busy": "2025-06-13T13:12:23.107054Z",
     "iopub.status.idle": "2025-06-13T13:12:23.111167Z",
     "shell.execute_reply": "2025-06-13T13:12:23.110796Z",
     "shell.execute_reply.started": "2025-06-13T13:12:23.107838Z"
    }
   },
   "outputs": [
    {
     "data": {
      "text/plain": [
       "1.3169578969248166"
      ]
     },
     "execution_count": 126,
     "metadata": {},
     "output_type": "execute_result"
    }
   ],
   "source": [
    "np.arccosh(2)"
   ]
  },
  {
   "cell_type": "markdown",
   "id": "42fefb9a-937b-4417-b419-934178a5d518",
   "metadata": {
    "execution": {
     "iopub.execute_input": "2025-06-10T14:51:08.728009Z",
     "iopub.status.busy": "2025-06-10T14:51:08.727868Z",
     "iopub.status.idle": "2025-06-10T14:51:08.748209Z",
     "shell.execute_reply": "2025-06-10T14:51:08.747699Z",
     "shell.execute_reply.started": "2025-06-10T14:51:08.727997Z"
    }
   },
   "source": [
    "\n",
    "Formule de la capacité entre spires provenant du fichier excel"
   ]
  },
  {
   "cell_type": "code",
   "execution_count": 92,
   "id": "0c66704d-779c-43a5-a756-79fdd97a9bf8",
   "metadata": {
    "execution": {
     "iopub.execute_input": "2025-07-31T12:15:47.713759Z",
     "iopub.status.busy": "2025-07-31T12:15:47.713238Z",
     "iopub.status.idle": "2025-07-31T12:15:47.717998Z",
     "shell.execute_reply": "2025-07-31T12:15:47.717405Z",
     "shell.execute_reply.started": "2025-07-31T12:15:47.713739Z"
    }
   },
   "outputs": [],
   "source": [
    "def capacite5(Nsc,dw,n,di,ek,dc,epsi_r):\n",
    "    '''\n",
    "    nb couches, n\n",
    "    nb spires/couche, Nsc\n",
    "    diamètre externe du fil, dw\n",
    "    diamètre de bobinage, di\n",
    "    diamètre fil Cu, dc\n",
    "    Epaisseur entre couches, ek\n",
    "    '''\n",
    "    epsi=cst.epsilon_0 * epsi_r\n",
    "    ee=(dw-dc)\n",
    "    num=(Nsc-1)*pi*epsi*dw*n*(di+ek*(n-1)+n*dw)\n",
    "    den=(Nsc**2)*ee\n",
    "    return 10**12*num/den"
   ]
  },
  {
   "cell_type": "code",
   "execution_count": 93,
   "id": "5f295d1d-919d-401f-957f-b7a47c9ff3cf",
   "metadata": {
    "execution": {
     "iopub.execute_input": "2025-07-31T12:15:47.974368Z",
     "iopub.status.busy": "2025-07-31T12:15:47.973843Z",
     "iopub.status.idle": "2025-07-31T12:15:47.978027Z",
     "shell.execute_reply": "2025-07-31T12:15:47.977459Z",
     "shell.execute_reply.started": "2025-07-31T12:15:47.974351Z"
    }
   },
   "outputs": [
    {
     "data": {
      "text/plain": [
       "0.08410207603116088"
      ]
     },
     "execution_count": 93,
     "metadata": {},
     "output_type": "execute_result"
    }
   ],
   "source": [
    "capacite5(843,9.5e-5,16,5e-3,4.5e-5,8e-5,3.5)\n"
   ]
  },
  {
   "cell_type": "code",
   "execution_count": 95,
   "id": "4666d80a-d6ff-477c-b910-58760d88b321",
   "metadata": {
    "execution": {
     "iopub.execute_input": "2025-07-31T12:17:40.909315Z",
     "iopub.status.busy": "2025-07-31T12:17:40.908800Z",
     "iopub.status.idle": "2025-07-31T12:17:40.914395Z",
     "shell.execute_reply": "2025-07-31T12:17:40.913771Z",
     "shell.execute_reply.started": "2025-07-31T12:17:40.909294Z"
    }
   },
   "outputs": [
    {
     "name": "stdout",
     "output_type": "stream",
     "text": [
      "0.9643150270869839\n",
      "2.626112265669839\n",
      "2.293268564832886\n",
      "0.022100853244682507\n",
      " \n",
      "2.8091833290799277\n",
      "2.339546460339102\n"
     ]
    }
   ],
   "source": [
    "print(capacite5(100,0.1e-3,1,0.2,0,0.08e-3,3.5))\n",
    "print(capacite5(25,0.7e-3,1,0.2,0.4e-3,0.5e-3,3.5))\n",
    "print(capacite5(50,0.3e-3,1,0.2,0.1e-3,0.25e-3,3.5))\n",
    "print(capacite5(2650,0.3e-3,1,0.1,0.1e-3,0.25e-3,3.5))\n",
    "print(' ')\n",
    "print(capacite5(16,0.7e-3,1,0.14,0.4e-3,0.5e-3,3.5))\n",
    "print(capacite5(34,0.3e-3,1,0.14,0.1e-3,0.25e-3,3.5))\n"
   ]
  },
  {
   "cell_type": "code",
   "execution_count": 130,
   "id": "c68dd240-cc23-4e8b-9d8a-e956eaf95a4e",
   "metadata": {
    "execution": {
     "iopub.execute_input": "2025-06-13T13:12:30.243712Z",
     "iopub.status.busy": "2025-06-13T13:12:30.243192Z",
     "iopub.status.idle": "2025-06-13T13:12:30.248174Z",
     "shell.execute_reply": "2025-06-13T13:12:30.247576Z",
     "shell.execute_reply.started": "2025-06-13T13:12:30.243690Z"
    }
   },
   "outputs": [
    {
     "name": "stdout",
     "output_type": "stream",
     "text": [
      "1104.5014110417915\n",
      "1609.4163418037529\n"
     ]
    }
   ],
   "source": [
    "print(capacite5(33,0.3e-3,33,0.34,0.05,0.25e-3,3.5))\n",
    "print(capacite5(33,0.3e-3,33,340e-3,0.05,0.25e-3,5.1))"
   ]
  },
  {
   "cell_type": "code",
   "execution_count": 98,
   "id": "9b0c0085-e3a3-4a99-8fc7-e65b44a1bcb6",
   "metadata": {
    "execution": {
     "iopub.execute_input": "2025-07-31T12:21:38.194596Z",
     "iopub.status.busy": "2025-07-31T12:21:38.194056Z",
     "iopub.status.idle": "2025-07-31T12:21:38.198830Z",
     "shell.execute_reply": "2025-07-31T12:21:38.198204Z",
     "shell.execute_reply.started": "2025-07-31T12:21:38.194574Z"
    }
   },
   "outputs": [
    {
     "name": "stdout",
     "output_type": "stream",
     "text": [
      "116.37743619956025\n",
      "25.169213350850114\n"
     ]
    }
   ],
   "source": [
    "print(capacite5(17,0.7e-3,12,340e-3,0.4e-3,0.5e-3,5.1))\n",
    "print(capacite5(435/6,0.3e-3,6,360e-3,0.1e-3,0.25e-3,5.1))"
   ]
  },
  {
   "cell_type": "markdown",
   "id": "95e5ba5f-edae-4662-a997-ca7aa1e0bf81",
   "metadata": {
    "execution": {
     "iopub.execute_input": "2025-06-03T14:47:18.562519Z",
     "iopub.status.busy": "2025-06-03T14:47:18.562234Z",
     "iopub.status.idle": "2025-06-03T14:47:18.565027Z",
     "shell.execute_reply": "2025-06-03T14:47:18.564565Z",
     "shell.execute_reply.started": "2025-06-03T14:47:18.562505Z"
    }
   },
   "source": [
    "Formule provenant du livre"
   ]
  },
  {
   "cell_type": "code",
   "execution_count": 146,
   "id": "26043602-6a07-4910-a947-99cecf697f5a",
   "metadata": {
    "execution": {
     "iopub.execute_input": "2025-06-13T13:30:36.432397Z",
     "iopub.status.busy": "2025-06-13T13:30:36.432127Z",
     "iopub.status.idle": "2025-06-13T13:30:36.435990Z",
     "shell.execute_reply": "2025-06-13T13:30:36.435608Z",
     "shell.execute_reply.started": "2025-06-13T13:30:36.432379Z"
    }
   },
   "outputs": [],
   "source": [
    "def capacite6(Nsc,dw,n,di,ek,dc,epsi_r):\n",
    "    '''\n",
    "    nb couches, n\n",
    "    nb spires/couche, Nsc\n",
    "    diamètre externe du fil, dw\n",
    "    diamètre de bobinage, di\n",
    "    diamètre fil Cu, dc\n",
    "    Epaisseur entre couches, ek\n",
    "    '''\n",
    "    epsi=cst.epsilon_0 * epsi_r\n",
    "    ee=(dw-dc)\n",
    "    num=(Nsc-1)*2*pi*epsi*di*dw\n",
    "    den=(Nsc**2)*ee\n",
    "    return 10**12*num/den"
   ]
  },
  {
   "cell_type": "code",
   "execution_count": 147,
   "id": "99ce1a33-2caf-436b-8005-c3a67c0e2bbd",
   "metadata": {
    "execution": {
     "iopub.execute_input": "2025-06-13T13:30:37.245482Z",
     "iopub.status.busy": "2025-06-13T13:30:37.245046Z",
     "iopub.status.idle": "2025-06-13T13:30:37.249733Z",
     "shell.execute_reply": "2025-06-13T13:30:37.249185Z",
     "shell.execute_reply.started": "2025-06-13T13:30:37.245466Z"
    }
   },
   "outputs": [
    {
     "name": "stdout",
     "output_type": "stream",
     "text": [
      "1.9276662210634363\n",
      "5.233905860826784\n",
      "4.5796676282234365\n",
      "0.021420652750356883\n",
      " \n",
      "7.986306550333836\n",
      "4.669087732679604\n"
     ]
    }
   ],
   "source": [
    "print(capacite6(100,0.1e-3,1,0.2,0,0.08e-3,3.5))\n",
    "print(capacite6(25,0.7e-3,1,0.2,0,0.5e-3,3.5))\n",
    "print(capacite6(50,0.3e-3,1,0.2,0,0.25e-3,3.5))\n",
    "print(capacite6(2726,0.3e-3,1,0.1,0,0.2e-3,3.5))\n",
    "print(' ')\n",
    "print(capacite6(16,0.7e-3,1,0.2,0,0.5e-3,3.5))\n",
    "print(capacite6(34,0.3e-3,1,0.14,0,0.25e-3,3.5))\n"
   ]
  },
  {
   "cell_type": "code",
   "execution_count": 148,
   "id": "446c7db6-bee6-40e2-83c0-98e12f8ad7dd",
   "metadata": {
    "execution": {
     "iopub.execute_input": "2025-06-13T13:30:37.500885Z",
     "iopub.status.busy": "2025-06-13T13:30:37.500699Z",
     "iopub.status.idle": "2025-06-13T13:30:37.504371Z",
     "shell.execute_reply": "2025-06-13T13:30:37.503832Z",
     "shell.execute_reply.started": "2025-06-13T13:30:37.500870Z"
    }
   },
   "outputs": [
    {
     "name": "stdout",
     "output_type": "stream",
     "text": [
      "11.672097551364999\n",
      "17.007913574846135\n"
     ]
    }
   ],
   "source": [
    "print(capacite6(33,0.3e-3,33,0.34,0.05,0.25e-3,3.5))\n",
    "print(capacite6(33,0.3e-3,33,0.34,0.05,0.25e-3,5.1))"
   ]
  },
  {
   "cell_type": "code",
   "execution_count": 149,
   "id": "88439e3b-c6b5-4a82-a59c-b1f18b3908ca",
   "metadata": {
    "execution": {
     "iopub.execute_input": "2025-06-13T13:30:37.964360Z",
     "iopub.status.busy": "2025-06-13T13:30:37.964100Z",
     "iopub.status.idle": "2025-06-13T13:30:37.968219Z",
     "shell.execute_reply": "2025-06-13T13:30:37.967707Z",
     "shell.execute_reply.started": "2025-06-13T13:30:37.964342Z"
    }
   },
   "outputs": [
    {
     "name": "stdout",
     "output_type": "stream",
     "text": [
      "18.692520931524225\n",
      "12.828200639281333\n"
     ]
    }
   ],
   "source": [
    "print(capacite6(17,0.7e-3,12,0.34,0.2,0.5e-3,5.1))\n",
    "print(capacite6(17,0.7e-3,12,0.34,0.2,0.5e-3,3.5))"
   ]
  },
  {
   "cell_type": "markdown",
   "id": "b2ce40e4-6e0f-4a30-83e4-583214b01495",
   "metadata": {
    "execution": {
     "iopub.execute_input": "2025-06-03T14:45:49.775742Z",
     "iopub.status.busy": "2025-06-03T14:45:49.775451Z",
     "iopub.status.idle": "2025-06-03T14:45:49.778923Z",
     "shell.execute_reply": "2025-06-03T14:45:49.778381Z",
     "shell.execute_reply.started": "2025-06-03T14:45:49.775724Z"
    }
   },
   "source": [
    "Capacité entre couches du fichier excel"
   ]
  },
  {
   "cell_type": "code",
   "execution_count": 105,
   "id": "9cb4dbfb-aacb-49e8-946e-f8f8c54116c0",
   "metadata": {
    "execution": {
     "iopub.execute_input": "2025-07-31T14:50:21.167205Z",
     "iopub.status.busy": "2025-07-31T14:50:21.166560Z",
     "iopub.status.idle": "2025-07-31T14:50:21.171087Z",
     "shell.execute_reply": "2025-07-31T14:50:21.170658Z",
     "shell.execute_reply.started": "2025-07-31T14:50:21.167180Z"
    }
   },
   "outputs": [],
   "source": [
    "def Cc_discontinu(dw,n,di,ek,dc,h,epsi_r):\n",
    "    '''\n",
    "    nb couches, n\n",
    "    diamètre externe du fil, dw\n",
    "    diamètre de bobinage, di\n",
    "    diamètre fil Cu, dc\n",
    "    longueur bobine , h\n",
    "    Epaisseur entre couches, ek\n",
    "    '''\n",
    "    epsi=cst.epsilon_0 * epsi_r\n",
    "    num=pi*epsi*h*(n-1)*(di+n*dw+(n-1)*ek)\n",
    "    den=(n**2)*ek\n",
    "    return num/den*10**12"
   ]
  },
  {
   "cell_type": "code",
   "execution_count": 106,
   "id": "2e6b6af5-f5ca-4b01-bf38-6219a6ca103a",
   "metadata": {
    "execution": {
     "iopub.execute_input": "2025-07-31T14:50:21.565305Z",
     "iopub.status.busy": "2025-07-31T14:50:21.564775Z",
     "iopub.status.idle": "2025-07-31T14:50:21.569636Z",
     "shell.execute_reply": "2025-07-31T14:50:21.569228Z",
     "shell.execute_reply.started": "2025-07-31T14:50:21.565283Z"
    }
   },
   "outputs": [
    {
     "data": {
      "text/plain": [
       "72.05486626575403"
      ]
     },
     "execution_count": 106,
     "metadata": {},
     "output_type": "execute_result"
    }
   ],
   "source": [
    "\n",
    "Cc_discontinu(9.5e-5,16,5e-3,4.5e-5,8e-5,7.9e-2,3.5)\n"
   ]
  },
  {
   "cell_type": "code",
   "execution_count": 107,
   "id": "debc8b24-f019-4842-89e6-0ea6ccdfd14a",
   "metadata": {
    "execution": {
     "iopub.execute_input": "2025-07-31T14:50:21.955729Z",
     "iopub.status.busy": "2025-07-31T14:50:21.955457Z",
     "iopub.status.idle": "2025-07-31T14:50:21.959514Z",
     "shell.execute_reply": "2025-07-31T14:50:21.959109Z",
     "shell.execute_reply.started": "2025-07-31T14:50:21.955712Z"
    }
   },
   "outputs": [
    {
     "name": "stdout",
     "output_type": "stream",
     "text": [
      "0.0\n",
      "444.81894800046786\n",
      " \n",
      "95.58011679439535\n",
      "1077.7677035359302\n"
     ]
    }
   ],
   "source": [
    "print(Cc_discontinu(0.7e-3,1,0.2,0.4e-3,0.5e-3,12.86e-3,3.5))\n",
    "print(Cc_discontinu(0.3e-3,3,0.14,0.1e-3,0.25e-3,0.01,5.1))\n",
    "print(' ')\n",
    "print(Cc_discontinu(0.7e-3,12,0.34,0.4e-3,0.5e-3,0.01,5.1))\n",
    "print(Cc_discontinu(0.3e-3,6,0.36,0.1e-3,0.25e-3,22e-3,3.5))"
   ]
  },
  {
   "cell_type": "code",
   "execution_count": 113,
   "id": "4bc6fd73-3822-42c0-bae2-4ed1b4fc2bb1",
   "metadata": {
    "execution": {
     "iopub.execute_input": "2025-07-31T14:54:25.269778Z",
     "iopub.status.busy": "2025-07-31T14:54:25.269395Z",
     "iopub.status.idle": "2025-07-31T14:54:25.273387Z",
     "shell.execute_reply": "2025-07-31T14:54:25.273025Z",
     "shell.execute_reply.started": "2025-07-31T14:54:25.269757Z"
    }
   },
   "outputs": [
    {
     "name": "stdout",
     "output_type": "stream",
     "text": [
      "1999.7103121536854\n",
      "1801.7513231219182\n",
      "1540.6726236529735\n"
     ]
    }
   ],
   "source": [
    "print(Cc_discontinu(0.130e-3,2,10e-3,0.01e-3,0.125e-3,80e-3,3.5))\n",
    "print(Cc_discontinu(0.130e-3,3,10e-3,0.01e-3,0.125e-3,80e-3,3.5))\n",
    "print(Cc_discontinu(0.130e-3,4,10e-3,0.01e-3,0.125e-3,80e-3,3.5))\n"
   ]
  },
  {
   "cell_type": "markdown",
   "id": "3821df3d-be75-4bd5-9525-385293d89819",
   "metadata": {
    "execution": {
     "iopub.execute_input": "2025-06-03T14:45:56.629027Z",
     "iopub.status.busy": "2025-06-03T14:45:56.628730Z",
     "iopub.status.idle": "2025-06-03T14:45:56.631509Z",
     "shell.execute_reply": "2025-06-03T14:45:56.631054Z",
     "shell.execute_reply.started": "2025-06-03T14:45:56.629014Z"
    }
   },
   "source": [
    "celle du livre"
   ]
  },
  {
   "cell_type": "code",
   "execution_count": 96,
   "id": "04f0add0-65d4-4601-b423-bb2a17514d48",
   "metadata": {
    "execution": {
     "iopub.execute_input": "2025-06-13T12:48:21.200916Z",
     "iopub.status.busy": "2025-06-13T12:48:21.200363Z",
     "iopub.status.idle": "2025-06-13T12:48:21.203640Z",
     "shell.execute_reply": "2025-06-13T12:48:21.203218Z",
     "shell.execute_reply.started": "2025-06-13T12:48:21.200899Z"
    }
   },
   "outputs": [],
   "source": [
    "def Cc_discontinu2(dw,n,di,ek,dc,h,epsi_r):\n",
    "    '''\n",
    "    nb couches, n\n",
    "    diamètre externe du fil, dw\n",
    "    diamètre de bobinage, di\n",
    "    diamètre fil Cu, dc\n",
    "    longueur bobine , h\n",
    "    Epaisseur entre couches, ek\n",
    "    '''\n",
    "    epsi=cst.epsilon_0 * epsi_r\n",
    "    num=pi*epsi*h*(n-1)*di/2\n",
    "    den=(n**2)*ek\n",
    "    return 10**12*num/den"
   ]
  },
  {
   "cell_type": "code",
   "execution_count": 97,
   "id": "e9b122bc-1cdf-4b38-adce-e02a49f76e85",
   "metadata": {
    "execution": {
     "iopub.execute_input": "2025-06-13T12:48:21.225212Z",
     "iopub.status.busy": "2025-06-13T12:48:21.224718Z",
     "iopub.status.idle": "2025-06-13T12:48:21.227697Z",
     "shell.execute_reply": "2025-06-13T12:48:21.227340Z",
     "shell.execute_reply.started": "2025-06-13T12:48:21.225195Z"
    },
    "scrolled": true
   },
   "outputs": [
    {
     "name": "stdout",
     "output_type": "stream",
     "text": [
      "0.09726747959470824\n",
      "0.1417326131237177\n"
     ]
    }
   ],
   "source": [
    "print(Cc_discontinu2(0.3e-3,33,0.34,0.05,0.25e-3,0.01,3.5))\n",
    "print(Cc_discontinu2(0.3e-3,33,0.34,0.05,0.25e-3,0.01,5.1))"
   ]
  },
  {
   "cell_type": "code",
   "execution_count": 106,
   "id": "b3c2b9f4-7602-4765-aaf1-1f4b41fb84d1",
   "metadata": {
    "execution": {
     "iopub.execute_input": "2025-06-13T13:07:00.202758Z",
     "iopub.status.busy": "2025-06-13T13:07:00.202356Z",
     "iopub.status.idle": "2025-06-13T13:07:00.206549Z",
     "shell.execute_reply": "2025-06-13T13:07:00.206155Z",
     "shell.execute_reply.started": "2025-06-13T13:07:00.202736Z"
    }
   },
   "outputs": [
    {
     "name": "stdout",
     "output_type": "stream",
     "text": [
      "0.09211235745491614\n"
     ]
    }
   ],
   "source": [
    "print(Cc_discontinu2(0.7e-3,12,0.34,0.2,0.5e-3,0.01,5.1))"
   ]
  },
  {
   "cell_type": "code",
   "execution_count": 98,
   "id": "6707835d-1fa5-48b4-ad5b-cd8da98162a2",
   "metadata": {
    "execution": {
     "iopub.execute_input": "2025-06-13T12:48:21.254780Z",
     "iopub.status.busy": "2025-06-13T12:48:21.254367Z",
     "iopub.status.idle": "2025-06-13T12:48:21.275431Z",
     "shell.execute_reply": "2025-06-13T12:48:21.274952Z",
     "shell.execute_reply.started": "2025-06-13T12:48:21.254764Z"
    }
   },
   "outputs": [
    {
     "data": {
      "text/plain": [
       "1.0696915502780594e-10"
      ]
     },
     "execution_count": 98,
     "metadata": {},
     "output_type": "execute_result"
    }
   ],
   "source": [
    "1/(37e-3 *((2*pi*80e3)**2))"
   ]
  },
  {
   "cell_type": "markdown",
   "id": "277fa143-d501-44c9-aa4f-8d0288f8bd54",
   "metadata": {},
   "source": [
    "An Analytical Model for Predicting the Self-Capacitance of\n",
    "Multi-Layer Circular-Section Induction Coils\n",
    "Bin Wu, Xiaodong Zhang, Xiucheng Liu , and Cunfu He\n",
    "College of Mechanical Engineering and Applied Electronics Technology, Beijing University\n",
    "of Technology, Beijing 100124, China\n",
    "https://sci-hub.red/http://dx.doi.org/10.1109/TMAG.2018.2803771\n"
   ]
  },
  {
   "cell_type": "code",
   "execution_count": 115,
   "id": "9086fe13-30e8-4d63-b7e8-bd3ff2a3980b",
   "metadata": {
    "execution": {
     "iopub.execute_input": "2025-08-01T08:38:57.685948Z",
     "iopub.status.busy": "2025-08-01T08:38:57.684833Z",
     "iopub.status.idle": "2025-08-01T08:38:57.690614Z",
     "shell.execute_reply": "2025-08-01T08:38:57.690168Z",
     "shell.execute_reply.started": "2025-08-01T08:38:57.685923Z"
    }
   },
   "outputs": [],
   "source": [
    "def capacite7(dw,dc,Di,di,n,Nsc,epsi_r):\n",
    "    \n",
    "    '''\n",
    "    nb couches, n\n",
    "    diamètre externe du fil, dw\n",
    "    diamètre fil Cu, dc\n",
    "    diamètre externe de bobinage, Di\n",
    "    diamètre interne de bobinage, di\n",
    "    \n",
    "    '''\n",
    "    N=n*Nsc\n",
    "    lt=pi*(Di+di)/2\n",
    "    k=dw/dc\n",
    "    epsi=cst.epsilon_0 * epsi_r\n",
    "    Ctt=(2*epsi*lt*np.arctan(((-1+sqrt(2))*(2*epsi_r+log(k)))/sqrt(log(k)*(2*epsi_r+log(k)))))/sqrt(2*epsi_r*log(k)+(log(k)**2))\n",
    "    return ((Nsc-1)*n*Ctt +(Nsc**3)*(n-1)*Ctt)/(N**2)"
   ]
  },
  {
   "cell_type": "code",
   "execution_count": 121,
   "id": "38aa56d1-20bf-4cc5-8532-6789953f25d0",
   "metadata": {
    "execution": {
     "iopub.execute_input": "2025-08-01T09:12:58.889759Z",
     "iopub.status.busy": "2025-08-01T09:12:58.889254Z",
     "iopub.status.idle": "2025-08-01T09:12:58.894423Z",
     "shell.execute_reply": "2025-08-01T09:12:58.893797Z",
     "shell.execute_reply.started": "2025-08-01T09:12:58.889739Z"
    }
   },
   "outputs": [
    {
     "name": "stdout",
     "output_type": "stream",
     "text": [
      "7.650427483802679e-10\n",
      "6.079634741506149e-11\n"
     ]
    }
   ],
   "source": [
    "print(capacite7(0.3e-3,0.25e-3,0.37+6*0.3e-3,0.37,6,435/6,3.5))\n",
    "print(capacite7(0.7e-3,0.5e-3,0.34+12*0.7e-3,0.34,12,17,3.5))\n"
   ]
  },
  {
   "cell_type": "code",
   "execution_count": 120,
   "id": "2b8daa68-e708-4282-9514-022a44c901e9",
   "metadata": {
    "execution": {
     "iopub.execute_input": "2025-08-01T09:12:20.458545Z",
     "iopub.status.busy": "2025-08-01T09:12:20.457997Z",
     "iopub.status.idle": "2025-08-01T09:12:20.463044Z",
     "shell.execute_reply": "2025-08-01T09:12:20.462403Z",
     "shell.execute_reply.started": "2025-08-01T09:12:20.458523Z"
    }
   },
   "outputs": [
    {
     "name": "stdout",
     "output_type": "stream",
     "text": [
      "6.10517414393979e-10\n",
      "2.97816722050385e-10\n"
     ]
    }
   ],
   "source": [
    "print(capacite7(0.130e-3,0.125e-3,10e-3 + 4*0.130e-3,10e-3,4,2460/4,3.5))\n",
    "print(capacite7(0.130e-3,0.125e-3,10e-3 + 4*0.130e-3,10e-3,4,300,3.5))"
   ]
  },
  {
   "cell_type": "code",
   "execution_count": 123,
   "id": "177d0a26-ecaa-425b-899a-3f688e9a310e",
   "metadata": {
    "execution": {
     "iopub.execute_input": "2025-08-01T09:13:45.082895Z",
     "iopub.status.busy": "2025-08-01T09:13:45.082273Z",
     "iopub.status.idle": "2025-08-01T09:13:45.087703Z",
     "shell.execute_reply": "2025-08-01T09:13:45.087138Z",
     "shell.execute_reply.started": "2025-08-01T09:13:45.082876Z"
    }
   },
   "outputs": [],
   "source": [
    "def capacite8(dw,dc,Di,di,n,Nsc,epsi_r):\n",
    "    \n",
    "    '''\n",
    "    nb couches, n\n",
    "    diamètre externe du fil, dw\n",
    "    diamètre fil Cu, dc\n",
    "    diamètre externe de bobinage, Di\n",
    "    diamètre interne de bobinage, di\n",
    "    \n",
    "    '''\n",
    "    N=n*Nsc\n",
    "    lt=pi*(Di+di)/2\n",
    "    k=dw/dc\n",
    "    epsi=cst.epsilon_0 * epsi_r\n",
    "    Ctti=(2*epsi*lt*np.arctan(((-1+sqrt(3))*(2*epsi_r+log(k)))/((1+sqrt(3))*sqrt(log(k)*(2*epsi_r+log(k))))))/sqrt(2*epsi_r*log(k)+log(k)**2)\n",
    "    Ctta=((epsi*lt*np.arctan(((2*epsi_r+log(k)))/sqrt(log(k)*(2*epsi_r+log(k)))))/sqrt(2*epsi_r*log(k)+log(k)**2))-Ctti/2\n",
    "    Ctto=Ctta+Ctti\n",
    "    return ((Nsc-1)*n*Ctti +(2*Nsc**3+Nsc**2-Nsc-1)*(n-1)*Ctti+2*(Nsc-1)*Ctta+2*(n-1)*Ctta*Nsc**2)/(N**2)"
   ]
  },
  {
   "cell_type": "code",
   "execution_count": 126,
   "id": "3ec75369-e685-4e3a-a379-40fa4c64f384",
   "metadata": {
    "execution": {
     "iopub.execute_input": "2025-08-01T09:15:02.693858Z",
     "iopub.status.busy": "2025-08-01T09:15:02.693403Z",
     "iopub.status.idle": "2025-08-01T09:15:02.697310Z",
     "shell.execute_reply": "2025-08-01T09:15:02.696950Z",
     "shell.execute_reply.started": "2025-08-01T09:15:02.693838Z"
    }
   },
   "outputs": [
    {
     "name": "stdout",
     "output_type": "stream",
     "text": [
      "1.372376660764356e-09\n",
      "1.0375776745705536e-10\n"
     ]
    }
   ],
   "source": [
    "print(capacite8(0.3e-3,0.25e-3,0.37+6*0.3e-3,0.37,6,450/6,3.5))\n",
    "print(capacite8(0.7e-3,0.5e-3,0.34+12*0.7e-3,0.34,12,17,3.5))\n"
   ]
  },
  {
   "cell_type": "code",
   "execution_count": 125,
   "id": "59d6cac6-e103-4e78-be4c-0b5b56df9a99",
   "metadata": {
    "execution": {
     "iopub.execute_input": "2025-08-01T09:14:00.886786Z",
     "iopub.status.busy": "2025-08-01T09:14:00.886270Z",
     "iopub.status.idle": "2025-08-01T09:14:00.891440Z",
     "shell.execute_reply": "2025-08-01T09:14:00.890830Z",
     "shell.execute_reply.started": "2025-08-01T09:14:00.886766Z"
    }
   },
   "outputs": [
    {
     "name": "stdout",
     "output_type": "stream",
     "text": [
      "1.1402042337064903e-09\n",
      "5.567444257548395e-10\n"
     ]
    }
   ],
   "source": [
    "print(capacite8(0.130e-3,0.125e-3,10e-3 + 4*0.130e-3,10e-3,4,2460/4,3.5))\n",
    "print(capacite8(0.130e-3,0.125e-3,10e-3 + 4*0.130e-3,10e-3,4,300,3.5))"
   ]
  },
  {
   "cell_type": "markdown",
   "id": "1b743d39-aa9a-4c42-9d08-b95658da8a3d",
   "metadata": {},
   "source": [
    "Formule de NEMI dans : https://hal-lirmm.ccsd.cnrs.fr/lirmm-00269460/document, https://pastel.hal.science/pastel-00835740/file/These_Malik_MANSOUR.pdf, https://www.lpp.polytechnique.fr/IMG/pdf/IEEE_Sensors2007_Coillot_V4.pdf (celle ci dans la cellule suivante)"
   ]
  },
  {
   "cell_type": "code",
   "execution_count": 99,
   "id": "d3f55d5e-5939-4550-8f17-9b4a3f05e9c4",
   "metadata": {
    "execution": {
     "iopub.execute_input": "2025-06-13T12:48:21.317126Z",
     "iopub.status.busy": "2025-06-13T12:48:21.316970Z",
     "iopub.status.idle": "2025-06-13T12:48:21.320751Z",
     "shell.execute_reply": "2025-06-13T12:48:21.320343Z",
     "shell.execute_reply.started": "2025-06-13T12:48:21.317111Z"
    }
   },
   "outputs": [],
   "source": [
    "def NEMI(N,r,l,a,T,freqs):\n",
    "    kB=1.38*10**-23\n",
    "    R=resistance(a,r,N)\n",
    "    L=inductance2(r,l,N)\n",
    "    C=capacite2(2*r,l)\n",
    "    S=pi*(r**2)\n",
    "    w=2*pi*freqs\n",
    "    En =np.sqrt(4*kB*T*R)*np.sqrt((1-L[0]*C*(w**2))**2+(R*C*w)**2)\n",
    "    Sensi = w*N*S\n",
    "    nemi_vals = En/Sensi\n",
    "\n",
    "    return nemi_vals\n"
   ]
  },
  {
   "cell_type": "markdown",
   "id": "173d3c37-e75b-4d6d-9dbc-3559e5bf3a8b",
   "metadata": {
    "execution": {
     "iopub.execute_input": "2025-06-03T14:46:00.533636Z",
     "iopub.status.busy": "2025-06-03T14:46:00.533300Z",
     "iopub.status.idle": "2025-06-03T14:46:00.536175Z",
     "shell.execute_reply": "2025-06-03T14:46:00.535734Z",
     "shell.execute_reply.started": "2025-06-03T14:46:00.533623Z"
    }
   },
   "source": [
    "On cherche à trouver une resonance vers les 250kHz ( on veut le nemi soit le plus faible entre 1Hz et 500kHz)"
   ]
  },
  {
   "cell_type": "code",
   "execution_count": 100,
   "id": "4a1fb440-56f6-48f6-aa89-909457fa9895",
   "metadata": {
    "execution": {
     "iopub.execute_input": "2025-06-13T12:48:21.384044Z",
     "iopub.status.busy": "2025-06-13T12:48:21.383505Z",
     "iopub.status.idle": "2025-06-13T12:48:21.431278Z",
     "shell.execute_reply": "2025-06-13T12:48:21.430535Z",
     "shell.execute_reply.started": "2025-06-13T12:48:21.384021Z"
    }
   },
   "outputs": [
    {
     "ename": "AttributeError",
     "evalue": "'float' object has no attribute 'to'",
     "output_type": "error",
     "traceback": [
      "\u001b[0;31m---------------------------------------------------------------------------\u001b[0m",
      "\u001b[0;31mAttributeError\u001b[0m                            Traceback (most recent call last)",
      "Cell \u001b[0;32mIn[100], line 5\u001b[0m\n\u001b[1;32m      3\u001b[0m nf\u001b[38;5;241m=\u001b[39m\u001b[38;5;241m10\u001b[39m\u001b[38;5;241m*\u001b[39m\u001b[38;5;241m*\u001b[39m\u001b[38;5;241m6\u001b[39m\n\u001b[1;32m      4\u001b[0m freqs \u001b[38;5;241m=\u001b[39m np\u001b[38;5;241m.\u001b[39mlinspace(f_min, f_max, nf)\n\u001b[0;32m----> 5\u001b[0m nemi\u001b[38;5;241m=\u001b[39m\u001b[43mNEMI\u001b[49m\u001b[43m(\u001b[49m\u001b[38;5;241;43m5000\u001b[39;49m\u001b[43m,\u001b[49m\u001b[38;5;241;43m0.20\u001b[39;49m\u001b[43m,\u001b[49m\u001b[38;5;241;43m1\u001b[39;49m\u001b[43m,\u001b[49m\u001b[38;5;241;43m0.25e-3\u001b[39;49m\u001b[43m,\u001b[49m\u001b[38;5;241;43m300\u001b[39;49m\u001b[43m,\u001b[49m\u001b[43mfreqs\u001b[49m\u001b[43m)\u001b[49m\n\u001b[1;32m      7\u001b[0m \u001b[38;5;28mprint\u001b[39m(nemi[\u001b[38;5;241m1\u001b[39m])\n\u001b[1;32m      8\u001b[0m plt\u001b[38;5;241m.\u001b[39mplot(freqs, nemi, linestyle\u001b[38;5;241m=\u001b[39m\u001b[38;5;124m'\u001b[39m\u001b[38;5;124m-\u001b[39m\u001b[38;5;124m'\u001b[39m)\n",
      "Cell \u001b[0;32mIn[99], line 3\u001b[0m, in \u001b[0;36mNEMI\u001b[0;34m(N, r, l, a, T, freqs)\u001b[0m\n\u001b[1;32m      1\u001b[0m \u001b[38;5;28;01mdef\u001b[39;00m\u001b[38;5;250m \u001b[39m\u001b[38;5;21mNEMI\u001b[39m(N,r,l,a,T,freqs):\n\u001b[1;32m      2\u001b[0m     kB\u001b[38;5;241m=\u001b[39m\u001b[38;5;241m1.38\u001b[39m\u001b[38;5;241m*\u001b[39m\u001b[38;5;241m10\u001b[39m\u001b[38;5;241m*\u001b[39m\u001b[38;5;241m*\u001b[39m\u001b[38;5;241m-\u001b[39m\u001b[38;5;241m23\u001b[39m\n\u001b[0;32m----> 3\u001b[0m     R\u001b[38;5;241m=\u001b[39m\u001b[43mresistance\u001b[49m\u001b[43m(\u001b[49m\u001b[43ma\u001b[49m\u001b[43m,\u001b[49m\u001b[43mr\u001b[49m\u001b[43m,\u001b[49m\u001b[43mN\u001b[49m\u001b[43m)\u001b[49m\n\u001b[1;32m      4\u001b[0m     L\u001b[38;5;241m=\u001b[39minductance2(r,l,N)\n\u001b[1;32m      5\u001b[0m     C\u001b[38;5;241m=\u001b[39mcapacite2(\u001b[38;5;241m2\u001b[39m\u001b[38;5;241m*\u001b[39mr,l)\n",
      "Cell \u001b[0;32mIn[69], line 3\u001b[0m, in \u001b[0;36mresistance\u001b[0;34m(a, r, N)\u001b[0m\n\u001b[1;32m      1\u001b[0m \u001b[38;5;28;01mdef\u001b[39;00m\u001b[38;5;250m \u001b[39m\u001b[38;5;21mresistance\u001b[39m(a,r,N):\n\u001b[1;32m      2\u001b[0m     \u001b[38;5;66;03m#N le nombre de spire, r le rayon de la bobine, a le rayon du fil,n le nombre de couche\u001b[39;00m\n\u001b[0;32m----> 3\u001b[0m     r\u001b[38;5;241m=\u001b[39m\u001b[43mr\u001b[49m\u001b[38;5;241;43m.\u001b[39;49m\u001b[43mto\u001b[49m(\u001b[38;5;124m'\u001b[39m\u001b[38;5;124mm\u001b[39m\u001b[38;5;124m'\u001b[39m)\n\u001b[1;32m      4\u001b[0m     a\u001b[38;5;241m=\u001b[39ma\u001b[38;5;241m.\u001b[39mto(\u001b[38;5;124m'\u001b[39m\u001b[38;5;124mm\u001b[39m\u001b[38;5;124m'\u001b[39m)\n\u001b[1;32m      5\u001b[0m     rho\u001b[38;5;241m=\u001b[39m \u001b[38;5;241m1.68\u001b[39m\u001b[38;5;241m*\u001b[39m(\u001b[38;5;241m10\u001b[39m\u001b[38;5;241m*\u001b[39m\u001b[38;5;241m*\u001b[39m\u001b[38;5;241m-\u001b[39m\u001b[38;5;241m8\u001b[39m)\u001b[38;5;241m*\u001b[39mu\u001b[38;5;241m.\u001b[39mohm\u001b[38;5;241m*\u001b[39mu\u001b[38;5;241m.\u001b[39mm \u001b[38;5;66;03m#la résistivité du matériau pour le cuivre\u001b[39;00m\n",
      "\u001b[0;31mAttributeError\u001b[0m: 'float' object has no attribute 'to'"
     ]
    }
   ],
   "source": [
    "f_min=1\n",
    "f_max=10**6\n",
    "nf=10**6\n",
    "freqs = np.linspace(f_min, f_max, nf)\n",
    "nemi=NEMI(5000,0.20,1,0.25e-3,300,freqs)\n",
    "\n",
    "print(nemi[1])\n",
    "plt.plot(freqs, nemi, linestyle='-')\n",
    "\n",
    "plt.xscale('log')\n",
    "plt.yscale('log')\n",
    "plt.title(\"Courbe du NEMI\")\n",
    "plt.xlabel(\"f\")\n",
    "plt.ylabel(\"NEMI\")\n",
    "\n",
    "plt.grid(True)\n",
    "plt.show()"
   ]
  },
  {
   "cell_type": "code",
   "execution_count": null,
   "id": "de156285-93d1-44e9-bfb7-4e652fc64bc7",
   "metadata": {
    "execution": {
     "iopub.status.busy": "2025-06-13T12:48:21.432113Z",
     "iopub.status.idle": "2025-06-13T12:48:21.432429Z",
     "shell.execute_reply": "2025-06-13T12:48:21.432327Z",
     "shell.execute_reply.started": "2025-06-13T12:48:21.432316Z"
    }
   },
   "outputs": [],
   "source": [
    "f_min=1\n",
    "f_max=10**6\n",
    "nf=10**6\n",
    "freqs = np.linspace(f_min, f_max, nf)\n",
    "nemi=NEMI(10000,0.1,300,freqs)\n",
    "kB=1.38*10**-23\n",
    "R=resistance(0.1,10000)\n",
    "S=pi*(0.1**2)\n",
    "en =sqrt(4*kB*300*R)\n",
    "Sensi = 2*pi*(10**2)*10000*S\n",
    "\n",
    "print (en)\n",
    "print(Sensi)"
   ]
  },
  {
   "cell_type": "code",
   "execution_count": 101,
   "id": "0276bd0f-1d45-4e5a-89f1-4f27a7bb999d",
   "metadata": {
    "execution": {
     "iopub.execute_input": "2025-06-13T12:48:21.444787Z",
     "iopub.status.busy": "2025-06-13T12:48:21.444212Z",
     "iopub.status.idle": "2025-06-13T12:48:21.448639Z",
     "shell.execute_reply": "2025-06-13T12:48:21.448209Z",
     "shell.execute_reply.started": "2025-06-13T12:48:21.444766Z"
    }
   },
   "outputs": [
    {
     "data": {
      "text/plain": [
       "0.6283185307179586"
      ]
     },
     "execution_count": 101,
     "metadata": {},
     "output_type": "execute_result"
    }
   ],
   "source": [
    "2*pi*0.1"
   ]
  },
  {
   "cell_type": "code",
   "execution_count": null,
   "id": "6188355f-9409-4253-a0b3-9784ffad0f9b",
   "metadata": {},
   "outputs": [],
   "source": []
  },
  {
   "cell_type": "code",
   "execution_count": null,
   "id": "67ab48b9-de6a-4e93-9cca-ec335946f26c",
   "metadata": {},
   "outputs": [],
   "source": []
  },
  {
   "cell_type": "code",
   "execution_count": null,
   "id": "094d9ace-cc7a-4cdf-9781-35babfa5560d",
   "metadata": {},
   "outputs": [],
   "source": []
  },
  {
   "cell_type": "code",
   "execution_count": null,
   "id": "d2f4c408-1321-4755-b4e3-6fc302afac43",
   "metadata": {},
   "outputs": [],
   "source": []
  },
  {
   "cell_type": "code",
   "execution_count": null,
   "id": "d945cdb3-a646-44b6-85d5-c441a94938f4",
   "metadata": {},
   "outputs": [],
   "source": []
  },
  {
   "cell_type": "code",
   "execution_count": null,
   "id": "f5709de3-142c-47e3-8310-52475ca93d28",
   "metadata": {},
   "outputs": [],
   "source": []
  },
  {
   "cell_type": "code",
   "execution_count": null,
   "id": "59f53161-2c68-4808-9f06-c7457a10daa8",
   "metadata": {},
   "outputs": [],
   "source": []
  },
  {
   "cell_type": "code",
   "execution_count": null,
   "id": "9ce9d78b-dff6-4795-b0f3-d356f4d88275",
   "metadata": {},
   "outputs": [],
   "source": []
  },
  {
   "cell_type": "code",
   "execution_count": null,
   "id": "ef181e55-8493-4558-8c37-e4d7c96873c2",
   "metadata": {},
   "outputs": [],
   "source": []
  },
  {
   "cell_type": "code",
   "execution_count": null,
   "id": "e38a93d3-26aa-4a0b-894c-5b90cb0a908d",
   "metadata": {},
   "outputs": [],
   "source": []
  },
  {
   "cell_type": "code",
   "execution_count": null,
   "id": "2f3ac375-3682-4791-901f-c6130654a958",
   "metadata": {},
   "outputs": [],
   "source": []
  }
 ],
 "metadata": {
  "kernelspec": {
   "display_name": "hpc/python3",
   "language": "python",
   "name": "conda-env-hpc-py"
  },
  "language_info": {
   "codemirror_mode": {
    "name": "ipython",
    "version": 3
   },
   "file_extension": ".py",
   "mimetype": "text/x-python",
   "name": "python",
   "nbconvert_exporter": "python",
   "pygments_lexer": "ipython3",
   "version": "3.10.16"
  }
 },
 "nbformat": 4,
 "nbformat_minor": 5
}
